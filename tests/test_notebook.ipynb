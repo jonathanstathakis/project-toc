{
 "cells": [
  {
   "cell_type": "markdown",
   "metadata": {},
   "source": [
    "---\n",
    "title: A test notebook\n",
    "description: a notebook for testing `toc`\n",
    "---\n",
    "\n",
    "Content.\n"
   ]
  }
 ],
 "metadata": {
  "language_info": {
   "name": "python"
  }
 },
 "nbformat": 4,
 "nbformat_minor": 2
}
